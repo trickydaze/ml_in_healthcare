{
 "cells": [
  {
   "cell_type": "markdown",
   "source": [
    "[http] https://www.kaggle.com/code/toygarr/baseline-for-almost-any-img-classification-task"
   ],
   "metadata": {
    "collapsed": false
   }
  },
  {
   "cell_type": "code",
   "execution_count": 8,
   "metadata": {
    "collapsed": true
   },
   "outputs": [],
   "source": [
    "import pandas as pd\n",
    "import numpy as np\n",
    "import cv2\n",
    "import matplotlib.pyplot as plt\n",
    "import seaborn as sns\n",
    "import warnings\n",
    "\n",
    "# System libraries\n",
    "from pathlib import Path\n",
    "import os.path\n",
    "from distutils.dir_util import copy_tree, remove_tree\n",
    "from tensorflow.keras.preprocessing.image import ImageDataGenerator as IDG\n",
    "import time\n",
    "\n",
    "from PIL import Image\n",
    "from random import randint\n",
    "\n",
    "# Metrics\n",
    "from sklearn.metrics import classification_report, confusion_matrix\n",
    "import itertools\n",
    "\n",
    "\n",
    "\n",
    "from tensorflow.keras.layers import Input, Lambda, Dense, Flatten, Dropout\n",
    "from tensorflow.keras.models import Model\n",
    "from tensorflow.keras.applications.vgg19 import preprocess_input\n",
    "from tensorflow.keras.preprocessing import image, image_dataset_from_directory\n",
    "from tensorflow.keras.preprocessing.image import ImageDataGenerator\n",
    "from tensorflow.keras.models import Sequential\n",
    "from tensorflow import keras\n",
    "import tensorflow\n",
    "\n",
    "from tensorflow.keras.applications.vgg16 import VGG16 # VGG16\n",
    "from tensorflow.keras.applications.vgg19 import VGG19 # VGG19\n",
    "from tensorflow.keras.applications.resnet50 import ResNet50 # ResNet50\n",
    "from tensorflow.keras.applications import ResNet101 # ResNet 101\n",
    "from tensorflow.keras.applications.xception import Xception # Xception\n",
    "from tensorflow.keras.applications.mobilenet import MobileNet # MobileNet\n",
    "from tensorflow.keras.applications.densenet import DenseNet169 # DenseNet169\n",
    "from tensorflow.keras.applications.densenet import DenseNet121 # DenseNet121\n",
    "from tensorflow.keras.applications.mobilenet_v2 import MobileNetV2 # MobileNetV2\n",
    "from tensorflow.keras.applications.inception_v3 import InceptionV3 # InceptionV3\n",
    "\n",
    "\n",
    "import scipy\n"
   ]
  },
  {
   "cell_type": "code",
   "execution_count": null,
   "outputs": [],
   "source": [
    "#AUGMENTED DATA\n",
    "aug_data = \"../input/augmented-alzheimer-mri-dataset/AugmentedAlzheimerDataset\"\n",
    "org_data = \"../input/augmented-alzheimer-mri-dataset/OriginalDataset\""
   ],
   "metadata": {
    "collapsed": false
   }
  },
  {
   "cell_type": "code",
   "execution_count": null,
   "outputs": [],
   "source": [
    "image_dir = Path(aug_data)\n",
    "\n",
    "# Get filepaths and labels\n",
    "filepaths = list(image_dir.glob(r'**/*.JPG')) + list(image_dir.glob(r'**/*.jpg'))\n",
    "\n",
    "labels = list(map(lambda x: os.path.split(os.path.split(x)[0])[1], filepaths))\n",
    "\n",
    "filepaths = pd.Series(filepaths, name='Filepath').astype(str)\n",
    "labels = pd.Series(labels, name='Label')\n",
    "\n",
    "# Concatenate filepaths and labels\n",
    "image_df = pd.concat([filepaths, labels], axis=1)"
   ],
   "metadata": {
    "collapsed": false
   }
  },
  {
   "cell_type": "code",
   "execution_count": null,
   "outputs": [],
   "source": [
    "def get_dataset(augmented = 0):\n",
    "    if(augmented == 0):\n",
    "        image_dir = Path(org_data)\n",
    "    else:\n",
    "        image_dir = Path(aug_data)\n",
    "\n",
    "    # Get filepaths and labels\n",
    "    filepaths = list(image_dir.glob(r'**/*.JPG')) + list(image_dir.glob(r'**/*.jpg'))\n",
    "    labels = list(map(lambda x: os.path.split(os.path.split(x)[0])[1], filepaths))\n",
    "\n",
    "    filepaths = pd.Series(filepaths, name='Filepath').astype(str)\n",
    "    labels = pd.Series(labels, name='Label')\n",
    "\n",
    "    # Concatenate filepaths and labels\n",
    "    image_df = pd.concat([filepaths, labels], axis=1)\n",
    "    return image_df"
   ],
   "metadata": {
    "collapsed": false
   }
  },
  {
   "cell_type": "code",
   "execution_count": null,
   "outputs": [],
   "source": [
    "train_df = get_dataset(1)\n",
    "test_df = get_dataset(0)"
   ],
   "metadata": {
    "collapsed": false
   }
  },
  {
   "cell_type": "code",
   "execution_count": null,
   "outputs": [],
   "source": [
    "pd.set_option('display.max_colwidth', None)\n",
    "train_df.head()"
   ],
   "metadata": {
    "collapsed": false
   }
  },
  {
   "cell_type": "code",
   "execution_count": null,
   "outputs": [],
   "source": [
    "test_df.tail()"
   ],
   "metadata": {
    "collapsed": false
   }
  },
  {
   "cell_type": "code",
   "execution_count": null,
   "outputs": [],
   "source": [
    "# Display 25 picture of the augmented dataset with their labels\n",
    "random_index = np.random.randint(0, len(train_df), 25)\n",
    "fig, axes = plt.subplots(nrows=5, ncols=5, figsize=(12, 12),\n",
    "                        subplot_kw={'xticks': [], 'yticks': []})\n",
    "\n",
    "for i, ax in enumerate(axes.flat):\n",
    "    ax.imshow(cv2.cvtColor(plt.imread(train_df.Filepath[random_index[i]]), cv2.COLOR_BGR2RGB))\n",
    "    ax.set_title(train_df.Label[random_index[i]])\n",
    "plt.tight_layout()\n",
    "plt.savefig(\"Augmented.pdf\")\n",
    "\n",
    "plt.show()"
   ],
   "metadata": {
    "collapsed": false
   }
  },
  {
   "cell_type": "code",
   "execution_count": null,
   "outputs": [],
   "source": [
    "# Display 25 picture of the original dataset with their labels\n",
    "random_index = np.random.randint(0, len(test_df), 25)\n",
    "fig, axes = plt.subplots(nrows=5, ncols=5, figsize=(12, 12),\n",
    "                        subplot_kw={'xticks': [], 'yticks': []})\n",
    "\n",
    "for i, ax in enumerate(axes.flat):\n",
    "    ax.imshow(cv2.cvtColor(plt.imread(test_df.Filepath[random_index[i]]), cv2.COLOR_BGR2RGB))\n",
    "    ax.set_title(test_df.Label[random_index[i]])\n",
    "plt.tight_layout()\n",
    "plt.savefig(\"Original.pdf\")\n",
    "plt.show()"
   ],
   "metadata": {
    "collapsed": false
   }
  },
  {
   "cell_type": "code",
   "execution_count": null,
   "outputs": [],
   "source": [
    "print(\"Train data set label distribution:\\n\",train_df.Label.value_counts())\n",
    "\n",
    "print(\"\\nTest data set label distribution:\\n\", test_df.Label.value_counts())"
   ],
   "metadata": {
    "collapsed": false
   }
  },
  {
   "cell_type": "code",
   "execution_count": 6,
   "outputs": [],
   "source": [
    "base_dir = \"/Users/yillysaurus/PycharmProjects/class_project/Alzheimer_s Dataset/\"\n",
    "root_dir = \"./\"\n",
    "train_dir = base_dir + \"train\"\n",
    "test_dir = base_dir + \"test\"\n",
    "#work_dir = root_dir + \"dataset/\"\n",
    "\n",
    "#if os.path.exists(work_dir):\n",
    "#    remove_tree(work_dir)\n",
    "\n",
    "\n",
    "#os.mkdir(work_dir)\n",
    "#copy_tree(train_dir, work_dir)\n",
    "#copy_tree(test_dir, work_dir)\n",
    "#print(\"Working Directory Contents:\", os.listdir(work_dir))"
   ],
   "metadata": {
    "collapsed": false
   }
  },
  {
   "cell_type": "code",
   "execution_count": 7,
   "outputs": [],
   "source": [
    "#WORK_DIR = './dataset/'\n",
    "\n",
    "CLASSES = [ 'NonDemented',\n",
    "            'VeryMildDemented',\n",
    "            'MildDemented',\n",
    "            'ModerateDemented']\n",
    "\n",
    "IMG_SIZE = 176\n",
    "IMAGE_SIZE = [176, 176]\n",
    "DIM = (IMG_SIZE, IMG_SIZE)"
   ],
   "metadata": {
    "collapsed": false
   }
  },
  {
   "cell_type": "code",
   "execution_count": 9,
   "outputs": [
    {
     "name": "stdout",
     "output_type": "stream",
     "text": [
      "Found 4610 images belonging to 4 classes.\n",
      "Found 511 images belonging to 4 classes.\n",
      "Found 1279 images belonging to 4 classes.\n"
     ]
    }
   ],
   "source": [
    "datagen = IDG(rescale = 1./255, validation_split=0.1)\n",
    "\n",
    "train_gen = datagen.flow_from_directory(directory=train_dir,\n",
    "                                             target_size=DIM,\n",
    "                                             batch_size=400,\n",
    "                                             class_mode='categorical',\n",
    "                                             subset='training',\n",
    "                                             shuffle=True)\n",
    "\n",
    "validation_gen = datagen.flow_from_directory(directory=train_dir,\n",
    "                                             target_size=DIM,\n",
    "                                             batch_size=400,\n",
    "                                             class_mode='categorical',\n",
    "                                             subset='validation',\n",
    "                                             shuffle=True)\n",
    "\n",
    "test_gen = datagen.flow_from_directory(directory=test_dir,\n",
    "                                             target_size=DIM,\n",
    "                                             batch_size=6400,\n",
    "                                             class_mode='categorical')"
   ],
   "metadata": {
    "collapsed": false
   }
  },
  {
   "cell_type": "code",
   "execution_count": 10,
   "outputs": [
    {
     "name": "stdout",
     "output_type": "stream",
     "text": [
      "Found 1279 images belonging to 4 classes.\n"
     ]
    }
   ],
   "source": [
    "test_gen_plot = datagen.flow_from_directory(directory=test_dir,\n",
    "                                             target_size=DIM,\n",
    "                                             batch_size=128,\n",
    "                                             class_mode='categorical')"
   ],
   "metadata": {
    "collapsed": false
   }
  },
  {
   "cell_type": "code",
   "execution_count": 11,
   "outputs": [],
   "source": [
    "def plot_training_metrics(train_hist, model, test_gen_plot, y_actual, y_pred, classes, model_name):\n",
    "    \"\"\"\n",
    "    Input: trained model history, model, test image generator, actual and predicted labels, class list\n",
    "    Output: Plots loss vs epochs, accuracy vs epochs, confusion matrix\n",
    "    \"\"\"\n",
    "\n",
    "    # Evaluate the results:\n",
    "    #. test_metrics[0] = loss,\n",
    "    #  test_metrics[1] = auc,\n",
    "    #  test_metrics[2] = acc\n",
    "    # Evaluate the results:\n",
    "    test_metrics = model.evaluate(test_gen_plot, verbose = False)\n",
    "    AUC       = test_metrics[1]*100\n",
    "    Acc       = test_metrics[2]*100\n",
    "    results_title =(f\"\\n Model AUC {AUC:.2f}%, Accuracy {Acc:.2f}% on Test Data\\n\")\n",
    "    print(results_title.format(AUC, Acc))\n",
    "\n",
    "\n",
    "    # print classification report\n",
    "    print(classification_report(y_actual, y_pred, target_names=classes))\n",
    "\n",
    "    # extract data from training history for plotting\n",
    "    history_dict    = train_hist.history\n",
    "    loss_values     = history_dict['loss']\n",
    "    val_loss_values = history_dict['val_loss']\n",
    "    auc_values      = history_dict['auc']\n",
    "    val_auc_values  = history_dict['val_auc']\n",
    "    epochs          = range(1, len(history_dict['auc']) + 1)\n",
    "\n",
    "    # get the min loss and max accuracy for plotting\n",
    "    max_auc = np.max(val_auc_values)\n",
    "    min_loss = np.min(val_loss_values)\n",
    "\n",
    "    # create plots\n",
    "    plt.subplots(figsize=(12,4))\n",
    "\n",
    "    # plot loss by epochs\n",
    "    plt.subplot(1,3,1)\n",
    "    plt.plot(epochs, loss_values, 'bo', label = 'Training loss')\n",
    "    plt.plot(epochs, val_loss_values, 'cornflowerblue', label = 'Validation loss')\n",
    "    plt.title('Validation Loss by Epochs')\n",
    "    plt.xlabel('Epochs')\n",
    "    plt.ylabel('Loss')\n",
    "    plt.axhline(y=min_loss,color='darkslategray', linestyle='--')\n",
    "    plt.legend()\n",
    "\n",
    "    # plot accuracy by epochs\n",
    "    plt.subplot(1,3,2)\n",
    "    plt.plot(epochs, auc_values, 'bo',label = 'Training AUC')\n",
    "    plt.plot(epochs, val_auc_values, 'cornflowerblue', label = 'Validation AUC')\n",
    "    plt.plot(epochs,[AUC/100]*len(epochs),'darkmagenta',linestyle = '--',label='Test AUC')\n",
    "    plt.title('Validation AUC by Epochs')\n",
    "    plt.xlabel('Epochs')\n",
    "    plt.ylabel('AUC')\n",
    "    plt.axhline(y=max_auc,color='darkslategray', linestyle='--')\n",
    "    plt.legend()\n",
    "\n",
    "\n",
    "     # calculate Confusion Matrix\n",
    "    cm = confusion_matrix(y_true, y_pred)\n",
    "\n",
    "    # create confusion matrix plot\n",
    "    plt.subplot(1,3,3)\n",
    "    plt.imshow(cm, interpolation='nearest', cmap=plt.cm.BuPu)\n",
    "    plt.title(f\"Confusion Matrix \\nAUC: {AUC:.2f}%\")\n",
    "    plt.colorbar()\n",
    "    tick_marks = np.arange(len(classes))\n",
    "    plt.xticks(tick_marks, classes, rotation=45)\n",
    "    plt.yticks(tick_marks, classes)\n",
    "\n",
    "    # loop through matrix, plot each\n",
    "    threshold = cm.max() / 2.\n",
    "    for r, c in itertools.product(range(cm.shape[0]), range(cm.shape[1])):\n",
    "        plt.text(c, r, format(cm[r, c], 'd'),\n",
    "                 horizontalalignment=\"center\",\n",
    "                 color=\"white\" if cm[r, c] > threshold else \"black\")\n",
    "\n",
    "    plt.ylabel('True label')\n",
    "    plt.xlabel('Predicted label')\n",
    "    plt.tight_layout()\n",
    "    plt.savefig(f\"{model_name}.pdf\")\n",
    "\n",
    "    plt.show()"
   ],
   "metadata": {
    "collapsed": false
   }
  },
  {
   "cell_type": "code",
   "execution_count": 12,
   "outputs": [],
   "source": [
    "def prepare_for_test(model, test_gen):\n",
    "    data, y_true = test_gen.next()\n",
    "    y_pred_ = model.predict(data, batch_size = 64)\n",
    "    y_pred = []\n",
    "    for i in range(y_pred_.shape[0]):\n",
    "        y_pred.append(np.argmax(y_pred_[i]))\n",
    "\n",
    "    y_true = np.argmax(y_true, axis=1)\n",
    "\n",
    "    return y_true, y_pred"
   ],
   "metadata": {
    "collapsed": false
   }
  },
  {
   "cell_type": "markdown",
   "source": [
    "## MODELS\n",
    "###VGG 19"
   ],
   "metadata": {
    "collapsed": false
   }
  },
  {
   "cell_type": "code",
   "execution_count": 13,
   "outputs": [
    {
     "name": "stdout",
     "output_type": "stream",
     "text": [
      "Model: \"model\"\n",
      "_________________________________________________________________\n",
      " Layer (type)                Output Shape              Param #   \n",
      "=================================================================\n",
      " input_1 (InputLayer)        [(None, 176, 176, 3)]     0         \n",
      "                                                                 \n",
      " block1_conv1 (Conv2D)       (None, 176, 176, 64)      1792      \n",
      "                                                                 \n",
      " block1_conv2 (Conv2D)       (None, 176, 176, 64)      36928     \n",
      "                                                                 \n",
      " block1_pool (MaxPooling2D)  (None, 88, 88, 64)        0         \n",
      "                                                                 \n",
      " block2_conv1 (Conv2D)       (None, 88, 88, 128)       73856     \n",
      "                                                                 \n",
      " block2_conv2 (Conv2D)       (None, 88, 88, 128)       147584    \n",
      "                                                                 \n",
      " block2_pool (MaxPooling2D)  (None, 44, 44, 128)       0         \n",
      "                                                                 \n",
      " block3_conv1 (Conv2D)       (None, 44, 44, 256)       295168    \n",
      "                                                                 \n",
      " block3_conv2 (Conv2D)       (None, 44, 44, 256)       590080    \n",
      "                                                                 \n",
      " block3_conv3 (Conv2D)       (None, 44, 44, 256)       590080    \n",
      "                                                                 \n",
      " block3_conv4 (Conv2D)       (None, 44, 44, 256)       590080    \n",
      "                                                                 \n",
      " block3_pool (MaxPooling2D)  (None, 22, 22, 256)       0         \n",
      "                                                                 \n",
      " block4_conv1 (Conv2D)       (None, 22, 22, 512)       1180160   \n",
      "                                                                 \n",
      " block4_conv2 (Conv2D)       (None, 22, 22, 512)       2359808   \n",
      "                                                                 \n",
      " block4_conv3 (Conv2D)       (None, 22, 22, 512)       2359808   \n",
      "                                                                 \n",
      " block4_conv4 (Conv2D)       (None, 22, 22, 512)       2359808   \n",
      "                                                                 \n",
      " block4_pool (MaxPooling2D)  (None, 11, 11, 512)       0         \n",
      "                                                                 \n",
      " block5_conv1 (Conv2D)       (None, 11, 11, 512)       2359808   \n",
      "                                                                 \n",
      " block5_conv2 (Conv2D)       (None, 11, 11, 512)       2359808   \n",
      "                                                                 \n",
      " block5_conv3 (Conv2D)       (None, 11, 11, 512)       2359808   \n",
      "                                                                 \n",
      " block5_conv4 (Conv2D)       (None, 11, 11, 512)       2359808   \n",
      "                                                                 \n",
      " block5_pool (MaxPooling2D)  (None, 5, 5, 512)         0         \n",
      "                                                                 \n",
      " flatten (Flatten)           (None, 12800)             0         \n",
      "                                                                 \n",
      " dense (Dense)               (None, 4)                 51204     \n",
      "                                                                 \n",
      "=================================================================\n",
      "Total params: 20,075,588\n",
      "Trainable params: 51,204\n",
      "Non-trainable params: 20,024,384\n",
      "_________________________________________________________________\n"
     ]
    }
   ],
   "source": [
    "vgg = VGG19(input_shape=(176,176,3), weights='imagenet', include_top=False)\n",
    "for layer in vgg.layers:\n",
    "    layer.trainable = False\n",
    "x = Flatten()(vgg.output)\n",
    "\n",
    "prediction = Dense(4, activation='softmax')(x)\n",
    "\n",
    "model = Model(inputs=vgg.input, outputs=prediction)\n",
    "model.summary()"
   ],
   "metadata": {
    "collapsed": false
   }
  },
  {
   "cell_type": "code",
   "execution_count": 14,
   "outputs": [
    {
     "name": "stdout",
     "output_type": "stream",
     "text": [
      "Epoch 1/10\n",
      "3/3 [==============================] - 276s 96s/step - loss: 1.5550 - auc: 0.6531 - acc: 0.3020 - val_loss: 1.2243 - val_auc: 0.8093 - val_acc: 0.5538\n",
      "Epoch 2/10\n",
      "3/3 [==============================] - 231s 81s/step - loss: 1.2260 - auc: 0.7329 - acc: 0.3673 - val_loss: 1.3237 - val_auc: 0.6288 - val_acc: 0.2720\n",
      "Epoch 3/10\n",
      "3/3 [==============================] - 301s 117s/step - loss: 1.0895 - auc: 0.7788 - acc: 0.4817 - val_loss: 1.1620 - val_auc: 0.7933 - val_acc: 0.5029\n",
      "Epoch 4/10\n",
      "3/3 [==============================] - 301s 116s/step - loss: 1.1338 - auc: 0.8143 - acc: 0.5325 - val_loss: 1.1260 - val_auc: 0.7999 - val_acc: 0.5088\n",
      "Epoch 5/10\n",
      "3/3 [==============================] - 330s 135s/step - loss: 1.0964 - auc: 0.8170 - acc: 0.5133 - val_loss: 1.1753 - val_auc: 0.7362 - val_acc: 0.4149\n",
      "Epoch 6/10\n",
      "3/3 [==============================] - 385s 153s/step - loss: 1.0755 - auc: 0.8415 - acc: 0.5942 - val_loss: 1.0844 - val_auc: 0.8076 - val_acc: 0.5245\n",
      "Epoch 7/10\n",
      "3/3 [==============================] - 384s 150s/step - loss: 1.0147 - auc: 0.8390 - acc: 0.5600 - val_loss: 1.0829 - val_auc: 0.8124 - val_acc: 0.5127\n",
      "Epoch 8/10\n",
      "3/3 [==============================] - 359s 138s/step - loss: 0.9517 - auc: 0.8607 - acc: 0.5917 - val_loss: 1.0666 - val_auc: 0.8075 - val_acc: 0.5421\n",
      "Epoch 9/10\n",
      "3/3 [==============================] - 297s 107s/step - loss: 0.9966 - auc: 0.8546 - acc: 0.5758 - val_loss: 1.0442 - val_auc: 0.8107 - val_acc: 0.5010\n",
      "Epoch 10/10\n",
      "3/3 [==============================] - 261s 100s/step - loss: 0.9990 - auc: 0.8584 - acc: 0.5892 - val_loss: 1.0371 - val_auc: 0.8109 - val_acc: 0.5362\n",
      "Total Time:52.13\n",
      "20/20 [==============================] - 147s 7s/step\n",
      "\n",
      " Model AUC 83.55%, Accuracy 53.79% on Test Data\n",
      "\n",
      "              precision    recall  f1-score   support\n",
      "\n",
      "        mild       0.00      0.00      0.00       179\n",
      "    moderate       0.00      0.00      0.00        12\n",
      "      normal       0.57      0.83      0.68       640\n",
      "   very-mild       0.45      0.35      0.39       448\n",
      "\n",
      "    accuracy                           0.54      1279\n",
      "   macro avg       0.25      0.30      0.27      1279\n",
      "weighted avg       0.44      0.54      0.48      1279\n",
      "\n"
     ]
    },
    {
     "name": "stderr",
     "output_type": "stream",
     "text": [
      "/usr/local/lib/python3.9/site-packages/sklearn/metrics/_classification.py:1245: UndefinedMetricWarning: Precision and F-score are ill-defined and being set to 0.0 in labels with no predicted samples. Use `zero_division` parameter to control this behavior.\n",
      "  _warn_prf(average, modifier, msg_start, len(result))\n",
      "/usr/local/lib/python3.9/site-packages/sklearn/metrics/_classification.py:1245: UndefinedMetricWarning: Precision and F-score are ill-defined and being set to 0.0 in labels with no predicted samples. Use `zero_division` parameter to control this behavior.\n",
      "  _warn_prf(average, modifier, msg_start, len(result))\n",
      "/usr/local/lib/python3.9/site-packages/sklearn/metrics/_classification.py:1245: UndefinedMetricWarning: Precision and F-score are ill-defined and being set to 0.0 in labels with no predicted samples. Use `zero_division` parameter to control this behavior.\n",
      "  _warn_prf(average, modifier, msg_start, len(result))\n",
      "<ipython-input-11-05e2835ba98c>:66: MatplotlibDeprecationWarning: Auto-removal of grids by pcolor() and pcolormesh() is deprecated since 3.5 and will be removed two minor releases later; please call grid(False) first.\n",
      "  plt.colorbar()\n"
     ]
    },
    {
     "data": {
      "text/plain": "<Figure size 864x288 with 4 Axes>",
      "image/png": "[encoded data removed]"
     },
     "metadata": {},
     "output_type": "display_data"
    }
   ],
   "source": [
    "\n",
    "model.compile(optimizer='adam',\n",
    "loss=tensorflow.losses.CategoricalCrossentropy(),\n",
    "metrics=[keras.metrics.AUC(name='auc'),'acc'])\n",
    "callback = keras.callbacks.EarlyStopping(monitor='val_loss',\n",
    "                                            patience=8,\n",
    "                                            restore_best_weights=True)\n",
    "\n",
    "tic = time.perf_counter()\n",
    "history = model.fit(train_gen,\n",
    "                    steps_per_epoch=len(train_gen)/4,\n",
    "                    validation_data=validation_gen,\n",
    "                    validation_steps=len(validation_gen),\n",
    "                    epochs=10, callbacks=callback)\n",
    "# time\n",
    "toc = time.perf_counter()\n",
    "print(\"Total Time:{}\".format(round((toc-tic)/60,2)))\n",
    "\n",
    "\n",
    "\n",
    "y_true, y_pred = prepare_for_test(model, test_gen)\n",
    "plot_training_metrics(history, model, test_gen_plot, y_true, y_pred, ['mild','moderate','normal','very-mild'], model_name = \"vgg19\")\n",
    "\n",
    "# SAVE MODEL\n",
    "model_dir = \"./alzheimer_vgg19_model\"\n",
    "model.save(model_dir, save_format='h5')\n",
    "np.save('my_vgg19_history.npy', history.history)\n",
    "#history=np.load('my_vgg19_history.npy',allow_pickle='TRUE').item()\n",
    "#pretrained_model = tensorflow.keras.models.load_model(model_dir)"
   ],
   "metadata": {
    "collapsed": false
   }
  },
  {
   "cell_type": "markdown",
   "source": [
    "## VGG16"
   ],
   "metadata": {
    "collapsed": false
   }
  },
  {
   "cell_type": "code",
   "execution_count": null,
   "outputs": [],
   "source": [
    "vgg = VGG16(input_shape=(176,176,3), weights='imagenet', include_top=False)\n",
    "for layer in vgg.layers:\n",
    "    layer.trainable = False\n",
    "x = Flatten()(vgg.output)\n",
    "\n",
    "prediction = Dense(4, activation='softmax')(x)\n",
    "\n",
    "model = Model(inputs=vgg.input, outputs=prediction)\n",
    "model.summary()\n",
    "\n",
    "\n",
    "model.compile(optimizer='adam',\n",
    "loss=tensorflow.losses.CategoricalCrossentropy(),\n",
    "metrics=[keras.metrics.AUC(name='auc'),'acc'])\n",
    "callback = keras.callbacks.EarlyStopping(monitor='val_loss',\n",
    "                                            patience=8,\n",
    "                                            restore_best_weights=True)\n",
    "tic = time.perf_counter()\n",
    "history = model.fit(train_gen,\n",
    "                    steps_per_epoch=len(train_gen),\n",
    "                    validation_data=validation_gen,\n",
    "                    validation_steps=len(validation_gen),\n",
    "                    epochs=50, callbacks=callback)\n",
    "# time\n",
    "toc = time.perf_counter()\n",
    "print(\"Total Time:{}\".format(round((toc-tic)/60,2)))\n",
    "\n",
    "y_true, y_pred = prepare_for_test(model, test_gen)\n",
    "plot_training_metrics(history, model, test_gen_plot, y_true, y_pred, ['mild','moderate','normal','very-mild'], model_name = \"vgg16\")\n",
    "\n",
    "# SAVE MODEL\n",
    "model_dir = \"./alzheimer_vgg16_model\"\n",
    "model.save(model_dir, save_format='h5')\n",
    "np.save('my_vgg16_history.npy', history.history)\n",
    "#history=np.load('my_vgg16_history.npy',allow_pickle='TRUE').item()\n",
    "#pretrained_model = tensorflow.keras.models.load_model(model_dir)"
   ],
   "metadata": {
    "collapsed": false
   }
  },
  {
   "cell_type": "markdown",
   "source": [
    "## ResNet50"
   ],
   "metadata": {
    "collapsed": false
   }
  },
  {
   "cell_type": "code",
   "execution_count": null,
   "outputs": [],
   "source": [
    "rn = ResNet50(input_shape=(176,176,3), weights='imagenet', include_top=False)\n",
    "for layer in rn.layers:\n",
    "    layer.trainable = False\n",
    "x = Flatten()(rn.output)\n",
    "\n",
    "prediction = Dense(4, activation='softmax')(x)\n",
    "\n",
    "model = Model(inputs=rn.input, outputs=prediction)\n",
    "\n",
    "model.compile(optimizer='adam',\n",
    "loss=tensorflow.losses.CategoricalCrossentropy(),\n",
    "metrics=[keras.metrics.AUC(name='auc'),'acc'])\n",
    "callback = keras.callbacks.EarlyStopping(monitor='val_loss',\n",
    "                                            patience=8,\n",
    "                                            restore_best_weights=True)\n",
    "\n",
    "tic = time.perf_counter()\n",
    "history = model.fit(train_gen,\n",
    "                    steps_per_epoch=len(train_gen),\n",
    "                    validation_data=validation_gen,\n",
    "                    validation_steps=len(validation_gen),\n",
    "                    epochs=50, callbacks=callback)\n",
    "# time\n",
    "toc = time.perf_counter()\n",
    "print(\"Total Time:{}\".format(round((toc-tic)/60,2)))\n",
    "\n",
    "y_true, y_pred = prepare_for_test(model, test_gen)\n",
    "plot_training_metrics(history, model, test_gen_plot, y_true, y_pred, ['mild','moderate','normal','very-mild'], model_name = \"resnet50\")\n",
    "\n",
    "# SAVE MODEL\n",
    "model_dir = \"./alzheimer_resnet50_model\"\n",
    "model.save(model_dir, save_format='h5')\n",
    "np.save('my_resnet50_history.npy', history.history)\n",
    "#history=np.load('my_resnet50_history.npy',allow_pickle='TRUE').item()\n",
    "#pretrained_model = tensorflow.keras.models.load_model(model_dir)"
   ],
   "metadata": {
    "collapsed": false
   }
  }
 ],
 "metadata": {
  "kernelspec": {
   "display_name": "Python 3",
   "language": "python",
   "name": "python3"
  },
  "language_info": {
   "codemirror_mode": {
    "name": "ipython",
    "version": 2
   },
   "file_extension": ".py",
   "mimetype": "text/x-python",
   "name": "python",
   "nbconvert_exporter": "python",
   "pygments_lexer": "ipython2",
   "version": "2.7.6"
  }
 },
 "nbformat": 4,
 "nbformat_minor": 0
}
