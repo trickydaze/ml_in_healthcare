{
 "cells": [
  {
   "cell_type": "markdown",
   "source": [
    "# A Non-Judgmental Analysis for PCA\n",
    "\n",
    "\n",
    "As mentioned on the exam, due to the opinion of the data scientists I have worked with and what they say about PCA (skews the data, brings down the accuracy etc.) I have had my prejudices not to use it. But because of that my knowledge of PCA was purely a theoretical one meaning I did not actually know what the outcome would be. Therefore, I will give it a chance to better understand without any other opinions.\n",
    "\n",
    "The Goal: Predicting the Drug\n",
    "\n",
    "The Plan Breakdown:\n",
    ">1) Exploring & Preprocessing:\n",
    ">>• missing data and outliers,\n",
    ">>>• data spread,\n",
    ">>>>• column names and values,\n",
    ">>>>>• checking for the columns that will be encoded later\n",
    ">2) Label Encoder\n",
    ">3) PCA:\n",
    ">>• Standardise (with Robust Scaler)\n",
    ">>>• PCA\n",
    ">4) Machine Learning Models\n",
    ">5) Evaluation\n"
   ],
   "metadata": {
    "collapsed": false
   }
  },
  {
   "cell_type": "code",
   "execution_count": 212,
   "metadata": {
    "collapsed": true
   },
   "outputs": [],
   "source": [
    "import pandas as pd\n",
    "import numpy as np\n",
    "import matplotlib.pyplot as plt\n",
    "import seaborn as sns\n",
    "from scipy import stats\n",
    "from sklearn.preprocessing import LabelEncoder\n",
    "from sklearn.preprocessing import RobustScaler\n",
    "from sklearn.decomposition import PCA\n",
    "\n",
    "\n",
    "from sklearn.linear_model import LogisticRegression\n",
    "from sklearn.neighbors import KNeighborsClassifier\n",
    "from sklearn.ensemble import RandomForestClassifier\n",
    "from sklearn.svm import SVC\n",
    "\n",
    "from sklearn.feature_selection import f_regression\n",
    "from sklearn.model_selection import train_test_split\n",
    "from sklearn.model_selection import cross_val_score, cross_val_predict\n",
    "from sklearn.model_selection import RandomizedSearchCV, GridSearchCV\n",
    "from sklearn.metrics import confusion_matrix, classification_report\n",
    "from sklearn.metrics import precision_score, recall_score, f1_score\n",
    "from sklearn.metrics import plot_roc_curve\n",
    "import warnings\n",
    "warnings.filterwarnings('ignore')"
   ]
  },
  {
   "cell_type": "markdown",
   "source": [],
   "metadata": {
    "collapsed": false
   }
  },
  {
   "cell_type": "code",
   "execution_count": 131,
   "outputs": [
    {
     "data": {
      "text/plain": "   Age Sex      BP Cholesterol  Na_to_K   Drug\n0   23   F    HIGH        HIGH   25.355  DrugY\n1   47   M     LOW        HIGH   13.093  drugC\n2   47   M     LOW        HIGH   10.114  drugC\n3   28   F  NORMAL        HIGH    7.798  drugX\n4   61   F     LOW        HIGH   18.043  DrugY",
      "text/html": "<div>\n<style scoped>\n    .dataframe tbody tr th:only-of-type {\n        vertical-align: middle;\n    }\n\n    .dataframe tbody tr th {\n        vertical-align: top;\n    }\n\n    .dataframe thead th {\n        text-align: right;\n    }\n</style>\n<table border=\"1\" class=\"dataframe\">\n  <thead>\n    <tr style=\"text-align: right;\">\n      <th></th>\n      <th>Age</th>\n      <th>Sex</th>\n      <th>BP</th>\n      <th>Cholesterol</th>\n      <th>Na_to_K</th>\n      <th>Drug</th>\n    </tr>\n  </thead>\n  <tbody>\n    <tr>\n      <th>0</th>\n      <td>23</td>\n      <td>F</td>\n      <td>HIGH</td>\n      <td>HIGH</td>\n      <td>25.355</td>\n      <td>DrugY</td>\n    </tr>\n    <tr>\n      <th>1</th>\n      <td>47</td>\n      <td>M</td>\n      <td>LOW</td>\n      <td>HIGH</td>\n      <td>13.093</td>\n      <td>drugC</td>\n    </tr>\n    <tr>\n      <th>2</th>\n      <td>47</td>\n      <td>M</td>\n      <td>LOW</td>\n      <td>HIGH</td>\n      <td>10.114</td>\n      <td>drugC</td>\n    </tr>\n    <tr>\n      <th>3</th>\n      <td>28</td>\n      <td>F</td>\n      <td>NORMAL</td>\n      <td>HIGH</td>\n      <td>7.798</td>\n      <td>drugX</td>\n    </tr>\n    <tr>\n      <th>4</th>\n      <td>61</td>\n      <td>F</td>\n      <td>LOW</td>\n      <td>HIGH</td>\n      <td>18.043</td>\n      <td>DrugY</td>\n    </tr>\n  </tbody>\n</table>\n</div>"
     },
     "execution_count": 131,
     "metadata": {},
     "output_type": "execute_result"
    }
   ],
   "source": [
    "drugs=pd.read_csv('drug200.csv', delimiter=',', index_col=False)\n",
    "drugs.head()"
   ],
   "metadata": {
    "collapsed": false
   }
  },
  {
   "cell_type": "code",
   "execution_count": 132,
   "outputs": [
    {
     "name": "stdout",
     "output_type": "stream",
     "text": [
      "Eligible for Encoding with 2 values: ['F' 'M']\n",
      "Eligible for Encoding with 3 values: ['HIGH' 'LOW' 'NORMAL']\n",
      "Eligible for Encoding with 2 values: ['HIGH' 'NORMAL']\n",
      "Eligible for Encoding with 5 values: ['DrugY' 'drugC' 'drugX' 'drugA' 'drugB']\n"
     ]
    }
   ],
   "source": [
    "print('Eligible for Encoding with', len(drugs.Sex.unique()) ,'values:',drugs.Sex.unique())\n",
    "print('Eligible for Encoding with', len(drugs.BP.unique()) ,'values:',drugs.BP.unique())\n",
    "print('Eligible for Encoding with', len(drugs.Cholesterol.unique()) ,'values:',drugs.Cholesterol.unique())\n",
    "print('Eligible for Encoding with', len(drugs.Drug.unique()) ,'values:',drugs.Drug.unique())"
   ],
   "metadata": {
    "collapsed": false
   }
  },
  {
   "cell_type": "markdown",
   "source": [
    ">>From this view, it is clear that we can encode almost of the columns which makes machine learning model for the later stage a breeze."
   ],
   "metadata": {
    "collapsed": false
   }
  },
  {
   "cell_type": "markdown",
   "source": [
    "Let's check if there is any missing data and the data types before we get into PCA."
   ],
   "metadata": {
    "collapsed": false
   }
  },
  {
   "cell_type": "code",
   "execution_count": 133,
   "outputs": [
    {
     "name": "stdout",
     "output_type": "stream",
     "text": [
      "--Amount of Missing Data--\n",
      "Age            0\n",
      "Sex            0\n",
      "BP             0\n",
      "Cholesterol    0\n",
      "Na_to_K        0\n",
      "Drug           0\n",
      "dtype: int64\n",
      "--Data Types--\n",
      "Age              int64\n",
      "Sex             object\n",
      "BP              object\n",
      "Cholesterol     object\n",
      "Na_to_K        float64\n",
      "Drug            object\n",
      "dtype: object\n"
     ]
    }
   ],
   "source": [
    "print('--Amount of Missing Data--')\n",
    "print(drugs.isna().sum())\n",
    "print('--Data Types--')\n",
    "print(drugs.dtypes)\n",
    "\n"
   ],
   "metadata": {
    "collapsed": false
   }
  },
  {
   "cell_type": "markdown",
   "source": [],
   "metadata": {
    "collapsed": false
   }
  },
  {
   "cell_type": "markdown",
   "source": [
    "## OUTLIERS"
   ],
   "metadata": {
    "collapsed": false
   }
  },
  {
   "cell_type": "markdown",
   "source": [
    "One last step is to check if there are any outliers within the 'Na_to_K' column (the only column with quantitative data). This will determine the standardising function we will use later."
   ],
   "metadata": {
    "collapsed": false
   }
  },
  {
   "cell_type": "code",
   "execution_count": 226,
   "outputs": [
    {
     "name": "stdout",
     "output_type": "stream",
     "text": [
      "Interquartile Range is 8.9345\n",
      "Upper bound outliers: 8 [33.486, 38.247, 35.639, 33.542, 32.922, 37.188, 34.997, 34.686]\n",
      "Lower bound outliers: 0\n"
     ]
    },
    {
     "data": {
      "text/plain": "<Figure size 432x288 with 1 Axes>",
      "image/png": "[encoded data removed]"
     },
     "metadata": {},
     "output_type": "display_data"
    }
   ],
   "source": [
    "sns.boxplot(drugs['Na_to_K'])\n",
    "Q1 = np.percentile(drugs['Na_to_K'], 25)\n",
    "Q3 = np.percentile(drugs['Na_to_K'], 75)\n",
    "IQR = Q3 - Q1\n",
    "print('Interquartile Range is',IQR)\n",
    "\n",
    "# Above Upper bound\n",
    "upper_outlier = [x for x in drugs['Na_to_K'] if x >= (Q3+1.5*IQR)]\n",
    "\n",
    "print(\"Upper bound outliers:\",len(upper_outlier),upper_outlier)\n",
    "\n",
    "\n",
    "# Below Lower bound\n",
    "lower_outlier=  [x for x in drugs['Na_to_K'] if x <= (Q1-1.5*IQR)]\n",
    "print(\"Lower bound outliers:\", len(lower_outlier))\n",
    "\n",
    "\n"
   ],
   "metadata": {
    "collapsed": false
   }
  },
  {
   "cell_type": "code",
   "execution_count": null,
   "outputs": [],
   "source": [
    "encode = LabelEncoder()\n",
    "drugs['Drug']= encode.fit_transform(drugs['Drug'])\n",
    "drugs['Cholesterol']= encode.fit_transform(drugs['Cholesterol'])\n",
    "drugs['BP']= encode.fit_transform(drugs['BP'])\n",
    "drugs['Sex']= encode.fit_transform(drugs['Sex'])"
   ],
   "metadata": {
    "collapsed": false
   }
  },
  {
   "cell_type": "markdown",
   "source": [
    "After encoding labels, we then check the correlation matrix to understand the relations of the columns.\n",
    "\n",
    "\"PCA should be used mainly for variables which are strongly correlated. If the relationship is weak between variables, PCA does not work well to reduce data. Refer to the correlation matrix to determine. In general, if most of the correlation coefficients are smaller than 0.3, PCA will not help.\""
   ],
   "metadata": {
    "collapsed": false
   }
  },
  {
   "cell_type": "code",
   "execution_count": 154,
   "outputs": [
    {
     "name": "stdout",
     "output_type": "stream",
     "text": [
      "                  Age       Sex        BP  Cholesterol   Na_to_K      Drug\n",
      "Age          1.000000  0.102027  0.054212    -0.068234 -0.063119  0.041856\n",
      "Sex          0.102027  1.000000 -0.007814    -0.008811 -0.125008  0.018239\n",
      "BP           0.054212 -0.007814  1.000000    -0.137552 -0.149312  0.419397\n",
      "Cholesterol -0.068234 -0.008811 -0.137552     1.000000  0.010000  0.048415\n",
      "Na_to_K     -0.063119 -0.125008 -0.149312     0.010000  1.000000 -0.689051\n",
      "Drug         0.041856  0.018239  0.419397     0.048415 -0.689051  1.000000\n"
     ]
    },
    {
     "data": {
      "text/plain": "<Figure size 432x288 with 2 Axes>",
      "image/png": "[encoded data removed]"
     },
     "metadata": {},
     "output_type": "display_data"
    }
   ],
   "source": [
    "corr_matrix = drugs.corr()\n",
    "print(corr_matrix)\n",
    "\n",
    "sns.heatmap(corr_matrix, annot=True)\n",
    "plt.show()"
   ],
   "metadata": {
    "collapsed": false
   }
  },
  {
   "cell_type": "code",
   "execution_count": 227,
   "outputs": [
    {
     "name": "stdout",
     "output_type": "stream",
     "text": [
      "- There are 91 from first drug class.\n",
      "- There are 23 from second drug class.\n",
      "- There are 16 from third drug class.\n",
      "- There are 16 from fourth drug class.\n",
      "- There are 54 from fifth drug class.\n"
     ]
    }
   ],
   "source": [
    "\n",
    "# Let's mark our features and labels before any standardisation\n",
    "features = drugs.drop('Drug',axis = 1)\n",
    "labels = np.asarray(drugs.Drug)\n",
    "print('- There are', len(labels[labels == 0]), 'from first drug class.')\n",
    "print('- There are',len(labels[labels == 1]), 'from second drug class.')\n",
    "print('- There are',len(labels[labels == 2]), 'from third drug class.')\n",
    "print('- There are',len(labels[labels == 3]), 'from fourth drug class.')\n",
    "print('- There are',len(labels[labels == 4]), 'from fifth drug class.')\n"
   ],
   "metadata": {
    "collapsed": false
   }
  },
  {
   "cell_type": "markdown",
   "source": [
    "|| Unfortunate class imbalance above."
   ],
   "metadata": {
    "collapsed": false
   }
  },
  {
   "cell_type": "markdown",
   "source": [
    "# STANDARDISING AND PCA\n"
   ],
   "metadata": {
    "collapsed": false
   }
  },
  {
   "cell_type": "markdown",
   "source": [
    "### There are different scalers: minmax, robust and standard:\n",
    "\n",
    "**StandardScaler** removes the mean and scales the data to unit variance.\n",
    "**MinMaxScaler** rescales the data set such that all feature values are in the range [0, 1]\n",
    "!!Both are extremely sensitive to outliers.!!\n",
    "Considering that we have 8 upper bound outliers, it is sensible to use **RobustScaler**. Unlike the previous scalers, the centering and scaling statistics of **RobustScaler** are based on percentiles and are therefore not influenced by a small number of very large marginal outliers. In our case 4% of the data."
   ],
   "metadata": {
    "collapsed": false
   }
  },
  {
   "cell_type": "code",
   "execution_count": 158,
   "outputs": [],
   "source": [
    "scaler = RobustScaler()\n",
    "features_standardised = scaler.fit_transform(features)"
   ],
   "metadata": {
    "collapsed": false
   }
  },
  {
   "cell_type": "markdown",
   "source": [
    "The reason why it is critical to perform standardization prior to PCA, is that the latter is quite sensitive regarding the variances of the initial variables. That is, if there are large differences between the ranges of initial variables, those variables with larger ranges will dominate over those with small ranges (For example, a variable that ranges between 0 and 100 will dominate over a variable that ranges between 0 and 1), which will lead to biased results.\n",
    "In our example, this is only necessary for the float data type column which is Na_to_K due to all the other ones being encoded integers."
   ],
   "metadata": {
    "collapsed": false
   }
  },
  {
   "cell_type": "markdown",
   "source": [],
   "metadata": {
    "collapsed": false
   }
  },
  {
   "cell_type": "markdown",
   "source": [
    "# The Moment of Truth: PCA"
   ],
   "metadata": {
    "collapsed": false
   }
  },
  {
   "cell_type": "code",
   "execution_count": 159,
   "outputs": [
    {
     "data": {
      "text/plain": "<Figure size 432x288 with 1 Axes>",
      "image/png": "[encoded data removed]"
     },
     "metadata": {},
     "output_type": "display_data"
    },
    {
     "name": "stdout",
     "output_type": "stream",
     "text": [
      "[0.39385658 0.22378084 0.15091929 0.1402711  0.09117219]\n",
      "0.9999999999999999\n"
     ]
    }
   ],
   "source": [
    "#define PCA model to use\n",
    "pca = PCA(n_components=5)\n",
    "\n",
    "#fit PCA model to data\n",
    "pca_fit = pca.fit_transform(features_standardised)\n",
    "\n",
    "\n",
    "PC_values = np.arange(pca.n_components_) + 1\n",
    "plt.plot(PC_values, pca.explained_variance_ratio_, 'o-', linewidth=2, color='blue')\n",
    "plt.title('Scree Plot')\n",
    "plt.xlabel('Principal Component')\n",
    "plt.ylabel('Variance Explained')\n",
    "plt.show()\n",
    "print(pca.explained_variance_ratio_)\n",
    "print(sum(pca.explained_variance_ratio_))"
   ],
   "metadata": {
    "collapsed": false
   }
  },
  {
   "cell_type": "markdown",
   "source": [
    "As we have seen from the correlation matrix above and explained variance ratio, there is definitely not a strong relationship or dominance within the data which makes it hard to reduce the dimensionality without jeopardising the interpretability. On an actual business project, my humble opinion would be that this data is not a good fit for PCA (this is kind of my luck). However, as we are experimenting and due to the potential time constraint finding another dataset with 3 criteria (classification, csv -for better visibility- and PCA friendly) I will continue regardless and have two models; one making use of the standardised and PCA applied and another unprocessed one for control for prediction accuracy differences."
   ],
   "metadata": {
    "collapsed": false
   }
  },
  {
   "cell_type": "markdown",
   "source": [
    "# MACHINE LEARNING MODELS"
   ],
   "metadata": {
    "collapsed": false
   }
  },
  {
   "cell_type": "markdown",
   "source": [
    "## Train Test Split"
   ],
   "metadata": {
    "collapsed": false
   }
  },
  {
   "cell_type": "code",
   "execution_count": null,
   "outputs": [],
   "source": [
    "#Two Splits; one with PCA, one without any feature extraction\n",
    "x_train_pca,x_test_pca,y_train_pca, y_test_pca= train_test_split(pca_fit,labels,test_size=0.20, random_state=42)\n",
    "x_train,x_test,y_train, y_test= train_test_split(features,labels,test_size=0.20, random_state=42)\n"
   ],
   "metadata": {
    "collapsed": false
   }
  },
  {
   "cell_type": "markdown",
   "source": [
    "The best way to test out different models to choose is to feed them all into the same pipeline and then decide. We will use KNN, Random Forest (likely to overfit), Support Vector Classifier and Logistic Regression."
   ],
   "metadata": {
    "collapsed": false
   }
  },
  {
   "cell_type": "code",
   "execution_count": 201,
   "outputs": [],
   "source": [
    "# Put models in a dictionary\n",
    "models = {\"KNN\": KNeighborsClassifier(),\n",
    "          \"Random Forest\": RandomForestClassifier(),\n",
    "          \"SVC\": SVC(),\n",
    "          \"Logistic Regression\": LogisticRegression()}\n",
    "\n",
    "\n",
    "# Create a function to fit and score models\n",
    "def fit_and_score(models, x_train, x_test, y_train, y_test):\n",
    "    \"\"\"\n",
    "    Fits and evaluates given machine learning models.\n",
    "    models : a dict of differetn Scikit-Learn machine learning models\n",
    "    X_train : training data (no labels)\n",
    "    X_test : testing data (no labels)\n",
    "    y_train : training labels\n",
    "    y_test : test labels\n",
    "    \"\"\"\n",
    "    # Set random seed\n",
    "    np.random.seed(42)\n",
    "    # Make a dictionary to keep model scores\n",
    "    model_scores = {}\n",
    "    # Loop through models\n",
    "    for name, model in models.items():\n",
    "        # Fit the model to the data\n",
    "        model.fit(x_train, y_train)\n",
    "        # Evaluate the model and append its score to model_scores\n",
    "        model_scores[name] = model.score(x_test, y_test)\n",
    "    return model_scores\n",
    "\n"
   ],
   "metadata": {
    "collapsed": false
   }
  },
  {
   "cell_type": "code",
   "execution_count": 228,
   "outputs": [
    {
     "name": "stdout",
     "output_type": "stream",
     "text": [
      "Accuracy for raw data by model {'KNN': 0.7, 'Random Forest': 1.0, 'SVC': 0.625, 'Logistic Regression': 0.8}\n",
      "Accuracy for PCA data by model {'KNN': 0.925, 'Random Forest': 0.925, 'SVC': 1.0, 'Logistic Regression': 0.85}\n"
     ]
    }
   ],
   "source": [
    "model_scores = fit_and_score(models=models,\n",
    "                             x_train=x_train,\n",
    "                             x_test=x_test,\n",
    "                             y_train=y_train,\n",
    "                             y_test=y_test\n",
    "                             )\n",
    "model_scores_pca = fit_and_score(models=models,\n",
    "                             x_train=x_train_pca,\n",
    "                             x_test=x_test_pca,\n",
    "                             y_train=y_train_pca,\n",
    "                             y_test=y_test_pca\n",
    "                             )\n",
    "print('Accuracy for raw data by model',model_scores)\n",
    "print('Accuracy for PCA data by model',model_scores_pca)\n",
    "\n"
   ],
   "metadata": {
    "collapsed": false
   }
  },
  {
   "cell_type": "markdown",
   "source": [
    "> The most stable out of 4 different models seem to be Logistic Regression. I will zoom into evaluation metrics with that model again using two sets of data (PCA and normal)."
   ],
   "metadata": {
    "collapsed": false
   }
  },
  {
   "cell_type": "markdown",
   "source": [],
   "metadata": {
    "collapsed": false
   }
  },
  {
   "cell_type": "code",
   "execution_count": 229,
   "outputs": [
    {
     "name": "stdout",
     "output_type": "stream",
     "text": [
      "              precision    recall  f1-score   support\n",
      "\n",
      "           0       0.79      1.00      0.88        15\n",
      "           1       1.00      0.50      0.67         6\n",
      "           2       1.00      1.00      1.00         3\n",
      "           3       0.00      0.00      0.00         5\n",
      "           4       0.73      1.00      0.85        11\n",
      "\n",
      "    accuracy                           0.80        40\n",
      "   macro avg       0.70      0.70      0.68        40\n",
      "weighted avg       0.72      0.80      0.74        40\n",
      "\n"
     ]
    }
   ],
   "source": [
    "model_logistic = LogisticRegression()\n",
    "\n",
    "model_logistic.fit(x_train, y_train)\n",
    "y_pred=model_logistic.predict(x_test)\n",
    "\n",
    "print(classification_report(y_test, y_pred))"
   ],
   "metadata": {
    "collapsed": false
   }
  },
  {
   "cell_type": "code",
   "execution_count": 230,
   "outputs": [
    {
     "name": "stdout",
     "output_type": "stream",
     "text": [
      "              precision    recall  f1-score   support\n",
      "\n",
      "           0       0.88      1.00      0.94        15\n",
      "           1       0.86      1.00      0.92         6\n",
      "           2       1.00      1.00      1.00         3\n",
      "           3       0.00      0.00      0.00         5\n",
      "           4       0.77      0.91      0.83        11\n",
      "\n",
      "    accuracy                           0.85        40\n",
      "   macro avg       0.70      0.78      0.74        40\n",
      "weighted avg       0.75      0.85      0.79        40\n",
      "\n"
     ]
    }
   ],
   "source": [
    "model_logistic = LogisticRegression()\n",
    "\n",
    "model_logistic.fit(x_train_pca, y_train_pca)\n",
    "y_pred_pca=model_logistic.predict(x_test_pca)\n",
    "\n",
    "print(classification_report(y_test_pca, y_pred_pca))"
   ],
   "metadata": {
    "collapsed": false
   }
  },
  {
   "cell_type": "markdown",
   "source": [
    "Although both of the data was able to be correctly interpreted, the imbalance in the dataset shows its ugly head here. On both of the datasets (with or without PCA), it is not able to predict the fourth class (see 3) at all.\n",
    "This calls for cross validation to ensure the split includes an (almost) equal representation of each class."
   ],
   "metadata": {
    "collapsed": false
   }
  },
  {
   "cell_type": "code",
   "execution_count": 235,
   "outputs": [
    {
     "data": {
      "text/plain": "array([0.87869919, 0.7461039 , 0.65888889, 0.75771127, 0.84337974])"
     },
     "execution_count": 235,
     "metadata": {},
     "output_type": "execute_result"
    }
   ],
   "source": [
    "\n",
    "scores = cross_val_score(model_logistic,features,labels,cv=5, scoring='f1_macro')\n",
    "scores\n"
   ],
   "metadata": {
    "collapsed": false
   }
  },
  {
   "cell_type": "code",
   "execution_count": 249,
   "outputs": [
    {
     "name": "stdout",
     "output_type": "stream",
     "text": [
      "        ----------------------------------------------\n",
      "          •The Raw model with Cross Validation\n",
      "        ----------------------------------------------\n",
      "              precision    recall  f1-score   support\n",
      "\n",
      "           0       0.89      0.96      0.92        91\n",
      "           1       0.79      0.65      0.71        23\n",
      "           2       0.71      0.75      0.73        16\n",
      "           3       1.00      0.44      0.61        16\n",
      "           4       0.90      0.98      0.94        54\n",
      "\n",
      "    accuracy                           0.87       200\n",
      "   macro avg       0.86      0.76      0.78       200\n",
      "weighted avg       0.87      0.87      0.86       200\n",
      "\n",
      "        ----------------------------------------------\n",
      "           •The PCA model with Cross Validation\n",
      "        ----------------------------------------------\n",
      "              precision    recall  f1-score   support\n",
      "\n",
      "           0       0.92      0.97      0.94        91\n",
      "           1       0.82      1.00      0.90        23\n",
      "           2       0.85      0.69      0.76        16\n",
      "           3       1.00      0.31      0.48        16\n",
      "           4       0.88      0.94      0.91        54\n",
      "\n",
      "    accuracy                           0.89       200\n",
      "   macro avg       0.89      0.78      0.80       200\n",
      "weighted avg       0.90      0.89      0.88       200\n",
      "\n"
     ]
    }
   ],
   "source": [
    "pred= cross_val_predict(model_logistic,features,labels,cv=5)\n",
    "pred_pca= cross_val_predict(model_logistic,pca_fit,labels,cv=5)\n",
    "print('        ----------------------------------------------')\n",
    "print('          •The Raw model with Cross Validation')\n",
    "print('        ----------------------------------------------')\n",
    "print(classification_report(labels, y_pred))\n",
    "print('        ----------------------------------------------')\n",
    "print('           •The PCA model with Cross Validation')\n",
    "print('        ----------------------------------------------')\n",
    "print(classification_report(labels, y_pred_pca))"
   ],
   "metadata": {
    "collapsed": false
   }
  },
  {
   "cell_type": "markdown",
   "source": [
    "### This **WAS** an educated guess that paid off with our 4th class metrics appearing here.\n",
    "Although overall the PCA model is performing a tiny bit better, the raw model is handling the 4th class much better. In classification problems it is always much wiser to check f1-score more than accuracy."
   ],
   "metadata": {
    "collapsed": false
   }
  },
  {
   "cell_type": "markdown",
   "source": [
    "Easter egg:"
   ],
   "metadata": {
    "collapsed": false
   }
  },
  {
   "cell_type": "markdown",
   "source": [
    " <img src=\"https://preview.redd.it/5iue845oa8x01.png?auto=webp&s=9bc5012d54633542f178fc0510748e6a98d735a1\">"
   ],
   "metadata": {
    "collapsed": false
   }
  }
 ],
 "metadata": {
  "kernelspec": {
   "display_name": "Python 3",
   "language": "python",
   "name": "python3"
  },
  "language_info": {
   "codemirror_mode": {
    "name": "ipython",
    "version": 2
   },
   "file_extension": ".py",
   "mimetype": "text/x-python",
   "name": "python",
   "nbconvert_exporter": "python",
   "pygments_lexer": "ipython2",
   "version": "2.7.6"
  }
 },
 "nbformat": 4,
 "nbformat_minor": 0
}
